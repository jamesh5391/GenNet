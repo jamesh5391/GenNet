{
 "cells": [
  {
   "cell_type": "markdown",
   "id": "c93adf1e",
   "metadata": {},
   "source": [
    "# Simulation Framework"
   ]
  },
  {
   "cell_type": "code",
   "execution_count": 1,
   "id": "97a15c72",
   "metadata": {},
   "outputs": [],
   "source": [
    "import subprocess\n",
    "import pandas as pd\n",
    "import numpy as np\n",
    "import json\n",
    "import argparse\n",
    "from pathlib import Path\n",
    "import shutil\n",
    "from typing import Dict, List, Tuple"
   ]
  },
  {
   "cell_type": "code",
   "execution_count": 6,
   "id": "18318c05",
   "metadata": {},
   "outputs": [],
   "source": [
    "vcf_file = Path(\"../data/raw/geno_phased_fixed.vcf.gz\")\n",
    "output_dir = Path(\"../data/processed/simulationx\")\n",
    "n_samples = 2500"
   ]
  },
  {
   "cell_type": "markdown",
   "id": "0ad49bea",
   "metadata": {},
   "source": [
    "## Genotyping Data Conversion "
   ]
  },
  {
   "cell_type": "markdown",
   "id": "9d5c24a2",
   "metadata": {},
   "source": [
    "Converts VCF genotype file to PLINK format, and randomly samples n rows from this file. "
   ]
  },
  {
   "cell_type": "code",
   "execution_count": 7,
   "id": "9f7f22a2",
   "metadata": {},
   "outputs": [
    {
     "name": "stdout",
     "output_type": "stream",
     "text": [
      "PLINK v2.0.0-a.7 M1 (20 Sep 2025)                   cog-genomics.org/plink/2.0/\n",
      "(C) 2005-2025 Shaun Purcell, Christopher Chang    GNU General Public License v3\n",
      "Logging to ../data/processed/simulationx/temp_all.log.\n",
      "Options in effect:\n",
      "  --make-bed\n",
      "  --out ../data/processed/simulationx/temp_all\n",
      "  --vcf ../data/raw/geno_phased_fixed.vcf.gz\n",
      "\n",
      "Start time: Wed Oct 29 21:04:46 2025\n",
      "16384 MiB RAM detected; reserving 8192 MiB for main workspace.\n",
      "Using up to 10 threads (change this with --threads).\n",
      "--vcf: 1070401 variants scanned.\n",
      "--vcf: ../data/processed/simulationx/temp_all-temporary.pgen +\n",
      "../data/processed/simulationx/temp_all-temporary.pvar.zst +\n",
      "../data/processed/simulationx/temp_all-temporary.psam written.\n",
      "3202 samples (0 females, 0 males, 3202 ambiguous; 3202 founders) loaded from\n",
      "../data/processed/simulationx/temp_all-temporary.psam.\n",
      "1070401 variants loaded from\n",
      "../data/processed/simulationx/temp_all-temporary.pvar.zst.\n",
      "Note: No phenotype data present.\n",
      "Writing ../data/processed/simulationx/temp_all.fam ... done.\n",
      "Writing ../data/processed/simulationx/temp_all.bim ... done.\n",
      "Writing ../data/processed/simulationx/temp_all.bed ... 121824303642485561677379859197done.\n",
      "End time: Wed Oct 29 21:04:55 2025\n",
      "PLINK v2.0.0-a.7 M1 (20 Sep 2025)                   cog-genomics.org/plink/2.0/\n",
      "(C) 2005-2025 Shaun Purcell, Christopher Chang    GNU General Public License v3\n",
      "Logging to ../data/processed/simulationx/plink_clean/chr22_data.log.\n",
      "Options in effect:\n",
      "  --bfile ../data/processed/simulationx/temp_all\n",
      "  --geno 0.05\n",
      "  --keep ../data/processed/simulationx/samples_keep.txt\n",
      "  --maf 0.01\n",
      "  --make-bed\n",
      "  --out ../data/processed/simulationx/plink_clean/chr22_data\n",
      "\n",
      "Start time: Wed Oct 29 21:04:55 2025\n",
      "16384 MiB RAM detected; reserving 8192 MiB for main workspace.\n",
      "Using up to 10 threads (change this with --threads).\n",
      "3202 samples (0 females, 0 males, 3202 ambiguous; 3202 founders) loaded from\n",
      "../data/processed/simulationx/temp_all.fam.\n",
      "1070401 variants loaded from ../data/processed/simulationx/temp_all.bim.\n",
      "Note: No phenotype data present.\n",
      "--keep: 2500 samples remaining.\n",
      "2500 samples (0 females, 0 males, 2500 ambiguous; 2500 founders) remaining\n",
      "after main filters.\n",
      "Calculating allele frequencies... 121824303642485561677379859197done.\n",
      "--geno: 0 variants removed due to missing genotype data.\n",
      "826133 variants removed due to allele frequency threshold(s)\n",
      "(--maf/--max-maf/--mac/--max-mac).\n",
      "244268 variants remaining after main filters.\n",
      "Writing ../data/processed/simulationx/plink_clean/chr22_data.fam ... done.\n",
      "Writing ../data/processed/simulationx/plink_clean/chr22_data.bim ... done.\n",
      "Writing ../data/processed/simulationx/plink_clean/chr22_data.bed ... 1622283541475460667178849098done.\n",
      "End time: Wed Oct 29 21:04:55 2025\n"
     ]
    }
   ],
   "source": [
    "temp_prefix = output_dir / \"temp_all\"\n",
    "cmd = f\"\"\"\n",
    "plink2 --vcf {vcf_file} \\\n",
    "        --make-bed \\\n",
    "        --out {temp_prefix}\n",
    "\"\"\"\n",
    "subprocess.run(cmd, shell=True, check=True)\n",
    "\n",
    "# read fam file to get sample info \n",
    "fam = pd.read_csv(f\"{temp_prefix}.fam\", sep=r'\\s+', header=None,\n",
    "                    names=['fid', 'iid', 'father', 'mother', 'sex', 'pheno'])\n",
    "\n",
    "# select n random samples\n",
    "n_available = len(fam)\n",
    "n_to_select = min(n_samples, n_available)\n",
    "selected_indices = np.random.choice(n_available, n_to_select, replace=False)\n",
    "selected_samples = fam.iloc[selected_indices]\n",
    "\n",
    "# Create keep file with FID and IID columns\n",
    "samples_file = output_dir / \"samples_keep.txt\"\n",
    "selected_samples[['fid', 'iid']].to_csv(samples_file, sep='\\t', header=False, index=False)\n",
    "\n",
    "# create plink clean directory\n",
    "plink_clean_dir = output_dir / \"plink_clean\"\n",
    "plink_clean_dir.mkdir(exist_ok=True)\n",
    "plink_prefix = plink_clean_dir / \"chr22_data\"\n",
    "\n",
    "cmd = f\"\"\"\n",
    "plink2 --bfile {temp_prefix} \\\n",
    "        --keep {samples_file} \\\n",
    "        --make-bed \\\n",
    "        --maf 0.01 \\\n",
    "        --geno 0.05 \\\n",
    "        --out {plink_prefix}\n",
    "\"\"\"\n",
    "subprocess.run(cmd, shell=True, check=True)\n",
    "\n",
    "# clean up temp files \n",
    "for ext in ['.bed', '.bim', '.fam', '.log']:\n",
    "    temp_file = Path(f\"{temp_prefix}{ext}\")\n",
    "    if temp_file.exists():\n",
    "        temp_file.unlink()\n",
    "\n",
    "plink_prefix = str(plink_prefix)"
   ]
  },
  {
   "cell_type": "markdown",
   "id": "7c9e4c0b",
   "metadata": {},
   "source": [
    "## Genotype HDF5 conversion\n",
    "\n",
    "Genotype files are converted to HDF5 format for efficient access."
   ]
  },
  {
   "cell_type": "code",
   "execution_count": 8,
   "id": "4a7d180d",
   "metadata": {},
   "outputs": [
    {
     "name": "stdout",
     "output_type": "stream",
     "text": [
      "using ../data/processed/simulationx/h5_output/\n",
      "Number of Individuals: 2500\n",
      "Number of Probes 244268 in chr22_data.bim\n",
      "Number of Probes 244268 converted\n",
      "next 25000 SNPs, from 244268, need to convert 219268\n",
      "Time to read 25000 SNPs is 1.6196000576019287 s\n",
      "Time to write 25000 SNPs is 12.224303960800171 s\n",
      "next 25000 SNPs, from 244268, need to convert 194268\n",
      "Time to read 25000 SNPs is 1.6037170886993408 s\n",
      "Time to write 25000 SNPs is 11.986586809158325 s\n",
      "next 25000 SNPs, from 244268, need to convert 169268\n",
      "Time to read 25000 SNPs is 1.592545747756958 s\n",
      "Time to write 25000 SNPs is 11.025698184967041 s\n",
      "next 25000 SNPs, from 244268, need to convert 144268\n",
      "Time to read 25000 SNPs is 1.8886241912841797 s\n",
      "Time to write 25000 SNPs is 12.821829080581665 s\n",
      "next 25000 SNPs, from 244268, need to convert 119268\n",
      "Time to read 25000 SNPs is 1.5810661315917969 s\n",
      "Time to write 25000 SNPs is 11.924237966537476 s\n",
      "next 25000 SNPs, from 244268, need to convert 94268\n",
      "Time to read 25000 SNPs is 1.5950350761413574 s\n",
      "Time to write 25000 SNPs is 10.997519969940186 s\n",
      "next 25000 SNPs, from 244268, need to convert 69268\n",
      "Time to read 25000 SNPs is 1.586043119430542 s\n",
      "Time to write 25000 SNPs is 11.623986005783081 s\n",
      "next 25000 SNPs, from 244268, need to convert 44268\n",
      "Time to read 25000 SNPs is 1.59920072555542 s\n",
      "Time to write 25000 SNPs is 12.549767017364502 s\n",
      "next 25000 SNPs, from 244268, need to convert 19268\n",
      "Time to read 25000 SNPs is 1.712583303451538 s\n",
      "Time to write 25000 SNPs is 11.044064998626709 s\n",
      "next 19268 SNPs, from 244268, need to convert 0\n",
      "Time to read 19268 SNPs is 1.2419581413269043 s\n",
      "Time to write 19268 SNPs is 8.604698181152344 s\n",
      "Number of individuals 2500 \n",
      "  family individual  paternal  maternal  sex  label\n",
      "0      0    HG00096         0         0    0     -9\n",
      "1      0    HG00097         0         0    0     -9\n",
      "2      0    HG00100         0         0    0     -9\n",
      "3      0    HG00101         0         0    0     -9\n",
      "4      0    HG00102         0         0    0     -9\n",
      "Converted number of variants 244268\n",
      "   CHR                        ID  ...              allele1              allele2\n",
      "0   22           22:10519276:G:C  ... -1731764350695015083  2304401928191824977\n",
      "1   22           22:10519389:T:C  ... -1731764350695015083  -105452454669633970\n",
      "2   22           22:10519413:C:G  ...  2304401928191824977 -1731764350695015083\n",
      "3   22           22:10519515:T:C  ... -1731764350695015083  -105452454669633970\n",
      "4   22           22:10524872:G:C  ... -1731764350695015083  2304401928191824977\n",
      "5   22           22:10524880:C:T  ...  -105452454669633970 -1731764350695015083\n",
      "6   22           22:10525545:G:A  ...  1822531967896217780  2304401928191824977\n",
      "7   22           22:10525647:G:A  ...  1822531967896217780  2304401928191824977\n",
      "8   22          22:10525689:C:CT  ... -8106054737799690403 -1731764350695015083\n",
      "9   22  22:10526078:C:CCCCGCCGCC  ... -8614493729295064835 -1731764350695015083\n",
      "\n",
      "[10 rows x 6 columns]\n",
      "Number of variants in genotype folder 244268\n",
      "[[2 2 2 ... 2 2 2]\n",
      " [2 2 2 ... 2 2 2]\n",
      " [2 2 0 ... 2 0 2]\n",
      " ...\n",
      " [0 0 1 ... 1 1 0]\n",
      " [2 2 2 ... 1 2 2]\n",
      " [2 2 2 ... 2 2 2]]\n",
      "Time to convert all data: 178.43178701400757 sec\n",
      "../data/processed/simulationx/h5_output/ <class 'str'>\n",
      "number of files  10\n",
      "\n",
      " merge all files...\n"
     ]
    },
    {
     "name": "stderr",
     "output_type": "stream",
     "text": [
      "100%|██████████| 10/10 [00:05<00:00,  1.91it/s]\n",
      "  0%|          | 0/121 [00:00<?, ?it/s]"
     ]
    },
    {
     "name": "stdout",
     "output_type": "stream",
     "text": [
      "merged shape = (244268, 2500)\n",
      "probe shape = (244268, 6)\n",
      "\n",
      " impute missing...\n",
      "2046\n"
     ]
    },
    {
     "name": "stderr",
     "output_type": "stream",
     "text": [
      "100%|██████████| 121/121 [00:06<00:00, 18.69it/s]\n",
      "  0%|          | 0/3 [00:00<?, ?it/s]"
     ]
    },
    {
     "name": "stdout",
     "output_type": "stream",
     "text": [
      "WARNING skipped step 4, all variants are used: using ../data/processed/simulationx/h5_output//chr22_data_step3_genotype_no_missing.h5\n",
      "chuncksize = 2046\n"
     ]
    },
    {
     "name": "stderr",
     "output_type": "stream",
     "text": [
      "100%|██████████| 3/3 [00:10<00:00,  3.55s/it]\n"
     ]
    },
    {
     "name": "stdout",
     "output_type": "stream",
     "text": [
      "Completed chr22_data\n",
      "You can delete all other h5 files if genotype.h5 is correct\n"
     ]
    }
   ],
   "source": [
    "convert_dir = output_dir / \"gennet_convert_temp\"\n",
    "if convert_dir.exists():\n",
    "    shutil.rmtree(convert_dir)\n",
    "convert_dir.mkdir()\n",
    "\n",
    "# copy only plink files to the directory \n",
    "base_name = Path(plink_prefix).name\n",
    "for ext in ['.bed', '.bim', '.fam']:\n",
    "    src = Path(f\"{plink_prefix}{ext}\")\n",
    "    dst = convert_dir / f\"{base_name}{ext}\"\n",
    "    shutil.copy2(src, dst)\n",
    "\n",
    "h5_output_dir = output_dir / \"h5_output\"\n",
    "if h5_output_dir.exists():\n",
    "    shutil.rmtree(h5_output_dir)\n",
    "h5_output_dir.mkdir()\n",
    "\n",
    "gennet_script = Path(\"../GenNet.py\")\n",
    "\n",
    "cmd = f\"\"\"python {gennet_script} convert \\\n",
    "    -g {convert_dir} \\\n",
    "    -study_name {base_name} \\\n",
    "    -o {h5_output_dir}\"\"\"\n",
    "\n",
    "subprocess.run(cmd, shell=True, check=True)\n",
    "\n",
    "if convert_dir.exists():\n",
    "    shutil.rmtree(convert_dir)"
   ]
  },
  {
   "cell_type": "markdown",
   "id": "09d67285",
   "metadata": {},
   "source": [
    "## Topology Matrix\n",
    "Create an annotation matrix to define partial connections between layers"
   ]
  },
  {
   "cell_type": "code",
   "execution_count": null,
   "id": "9481574e",
   "metadata": {},
   "outputs": [],
   "source": [
    "\n",
    "# Read BIM file\n",
    "bim = pd.read_csv(f\"{plink_prefix}.bim\", sep='\\t', header=None,\n",
    "                    names=['chr', 'snp', 'cm', 'pos', 'a1', 'a2'])\n",
    "\n",
    "# Create gene to pathway mapping\n",
    "n_pathways = max(1, n_genes // 20)  # ~20 genes per pathway\n",
    "gene_to_pathway = {}\n",
    "pathway_idx = 0\n",
    "for gene_idx in range(n_genes):\n",
    "    if gene_idx > 0 and gene_idx % 20 == 0:\n",
    "        pathway_idx += 1\n",
    "    gene_to_pathway[gene_idx] = pathway_idx\n",
    "\n",
    "topology_rows = []\n",
    "for snp_idx, row in bim.iterrows():\n",
    "    # Assign SNP to gene (distribute evenly)\n",
    "    gene_idx = snp_idx % n_genes\n",
    "    pathway_idx = gene_to_pathway[gene_idx]\n",
    "\n",
    "    topology_rows.append({\n",
    "        'chr': row['chr'],\n",
    "        'layer0_node': snp_idx,\n",
    "        'layer0_name': row['snp'],\n",
    "        'layer1_node': gene_idx,\n",
    "        'layer1_name': f\"GENE_{gene_idx}\",\n",
    "        'layer2_node': pathway_idx,\n",
    "        'layer2_name': f\"PATHWAY_{pathway_idx}\"\n",
    "    })\n",
    "\n",
    "topology_file = self.output_dir / \"topology.csv\"\n",
    "pd.DataFrame(topology_rows).to_csv(topology_file, index=False)\n",
    "\n",
    "print(f\"Topology created: {len(topology_rows)} SNPs -> {n_genes} genes -> {len(set(gene_to_pathway.values()))} pathways\")\n",
    "\n",
    "return str(topology_file), topology_rows\n",
    "    "
   ]
  }
 ],
 "metadata": {
  "kernelspec": {
   "display_name": "env_GenNet",
   "language": "python",
   "name": "python3"
  },
  "language_info": {
   "codemirror_mode": {
    "name": "ipython",
    "version": 3
   },
   "file_extension": ".py",
   "mimetype": "text/x-python",
   "name": "python",
   "nbconvert_exporter": "python",
   "pygments_lexer": "ipython3",
   "version": "3.10.8"
  }
 },
 "nbformat": 4,
 "nbformat_minor": 5
}
